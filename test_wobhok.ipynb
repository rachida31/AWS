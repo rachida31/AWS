{
 "cells": [
  {
   "cell_type": "code",
   "execution_count": 1,
   "id": "2827b6d4",
   "metadata": {},
   "outputs": [],
   "source": [
    "import pandas as pd"
   ]
  },
  {
   "cell_type": "code",
   "execution_count": null,
   "id": "4594f45e",
   "metadata": {},
   "outputs": [],
   "source": [
    "ter"
   ]
  },
  {
   "cell_type": "code",
   "execution_count": null,
   "id": "e8be1a18",
   "metadata": {},
   "outputs": [],
   "source": []
  },
  {
   "cell_type": "code",
   "execution_count": null,
   "id": "af0fdc88",
   "metadata": {},
   "outputs": [],
   "source": [
    "yes"
   ]
  }
 ],
 "metadata": {
  "kernelspec": {
   "display_name": "Python 3 (ipykernel)",
   "language": "python",
   "name": "python3"
  },
  "language_info": {
   "codemirror_mode": {
    "name": "ipython",
    "version": 3
   },
   "file_extension": ".py",
   "mimetype": "text/x-python",
   "name": "python",
   "nbconvert_exporter": "python",
   "pygments_lexer": "ipython3",
   "version": "3.9.7"
  }
 },
 "nbformat": 4,
 "nbformat_minor": 5
}
